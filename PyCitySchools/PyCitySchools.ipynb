{
 "cells": [
  {
   "cell_type": "code",
   "execution_count": 1,
   "id": "fb605164-b6aa-45b4-81f8-ed99bc398fbb",
   "metadata": {},
   "outputs": [],
   "source": [
    "# Dependencies and Setup\n",
    "import pandas as pd\n",
    "\n",
    "# Loading Files\n",
    "school_csv = \"Resources/schools_complete.csv\"\n",
    "student_csv = \"Resources/students_complete.csv\"\n",
    "\n",
    "# Read School and Student Data File and store into Pandas DataFrames\n",
    "school_data = pd.read_csv(school_csv)\n",
    "student_data = pd.read_csv(student_csv)\n",
    "\n",
    "# Combine the data into a single dataset.  \n",
    "school_full = pd.merge(student_data, school_data, how=\"left\", on=[\"school_name\", \"school_name\"])"
   ]
  },
  {
   "cell_type": "code",
   "execution_count": 2,
   "id": "93c58ed8-013b-46b9-8308-1c5d756a009b",
   "metadata": {},
   "outputs": [
    {
     "data": {
      "text/html": [
       "<div>\n",
       "<style scoped>\n",
       "    .dataframe tbody tr th:only-of-type {\n",
       "        vertical-align: middle;\n",
       "    }\n",
       "\n",
       "    .dataframe tbody tr th {\n",
       "        vertical-align: top;\n",
       "    }\n",
       "\n",
       "    .dataframe thead th {\n",
       "        text-align: right;\n",
       "    }\n",
       "</style>\n",
       "<table border=\"1\" class=\"dataframe\">\n",
       "  <thead>\n",
       "    <tr style=\"text-align: right;\">\n",
       "      <th></th>\n",
       "      <th>Student ID</th>\n",
       "      <th>student_name</th>\n",
       "      <th>gender</th>\n",
       "      <th>grade</th>\n",
       "      <th>school_name</th>\n",
       "      <th>reading_score</th>\n",
       "      <th>math_score</th>\n",
       "      <th>School ID</th>\n",
       "      <th>type</th>\n",
       "      <th>size</th>\n",
       "      <th>budget</th>\n",
       "    </tr>\n",
       "  </thead>\n",
       "  <tbody>\n",
       "    <tr>\n",
       "      <th>0</th>\n",
       "      <td>0</td>\n",
       "      <td>Paul Bradley</td>\n",
       "      <td>M</td>\n",
       "      <td>9th</td>\n",
       "      <td>Huang High School</td>\n",
       "      <td>66</td>\n",
       "      <td>79</td>\n",
       "      <td>0</td>\n",
       "      <td>District</td>\n",
       "      <td>2917</td>\n",
       "      <td>1910635</td>\n",
       "    </tr>\n",
       "  </tbody>\n",
       "</table>\n",
       "</div>"
      ],
      "text/plain": [
       "   Student ID  student_name gender grade        school_name  reading_score  \\\n",
       "0           0  Paul Bradley      M   9th  Huang High School             66   \n",
       "\n",
       "   math_score  School ID      type  size   budget  \n",
       "0          79          0  District  2917  1910635  "
      ]
     },
     "execution_count": 2,
     "metadata": {},
     "output_type": "execute_result"
    }
   ],
   "source": [
    "school_full.head(1)"
   ]
  },
  {
   "cell_type": "code",
   "execution_count": 84,
   "id": "7f8477fc-07d3-4682-80dd-8874e187b015",
   "metadata": {},
   "outputs": [
    {
     "name": "stdout",
     "output_type": "stream",
     "text": [
      "15\n",
      "39,170\n",
      "$24,649,428.00\n",
      "78.98537145774827\n",
      "81.87784018381414\n",
      "74.98%\n",
      "85.81%\n",
      "65.17%\n"
     ]
    }
   ],
   "source": [
    "### DISTRICT SUMMARY\n",
    "schools_count = len(school_full[\"school_name\"].value_counts())\n",
    "school_count = len(school_data)\n",
    "print(school_count)\n",
    "\n",
    "stu_count = school_full[\"Student ID\"].count()\n",
    "student_count = \"{:,}\".format(len(student_data))\n",
    "print(student_count)\n",
    "\n",
    "total_budget = \"${:,.2f}\".format(school_data[\"budget\"].sum())\n",
    "print(total_budget)\n",
    "\n",
    "avg_math = school_full[\"math_score\"].mean()\n",
    "print(avg_math)\n",
    "\n",
    "avg_read = school_full[\"reading_score\"].mean()\n",
    "print(avg_read)\n",
    "\n",
    "count_pass_math = sum(x >=70 for x in school_full[\"math_score\"])\n",
    "perc_pass_math = \"{:.2%}\".format(count_pass_math/stu_count)\n",
    "print(perc_pass_math)\n",
    "\n",
    "count_pass_read = sum(x >=70 for x in school_full[\"reading_score\"])\n",
    "perc_pass_read = \"{:.2%}\".format(count_pass_read/stu_count)\n",
    "print(perc_pass_read)\n",
    "\n",
    "overall_pass = school_full.loc[(school_full[\"math_score\"]>=70)&(school_full[\"reading_score\"]>=70)]\n",
    "perc_overall_pass = \"{:.2%}\".format((len(overall_pass)/stu_count))\n",
    "print(perc_overall_pass)\n",
    "\n",
    "dist_data = [{\"Total Schools\": school_count,\"Total Students\": stu_count,\"Total Budget\": total_budget,\n",
    "              \"Average Math Score\": avg_math,\"Average Reading Score\": avg_read,\n",
    "             \"% Passing Math\": perc_pass_math,\"% Passing Reading\": perc_pass_read,\n",
    "             \"% Overall Passing\": perc_overall_pass}]"
   ]
  },
  {
   "cell_type": "code",
   "execution_count": 85,
   "id": "9fdfaecd-c5d8-4596-9da2-35750467584f",
   "metadata": {},
   "outputs": [
    {
     "data": {
      "text/html": [
       "<div>\n",
       "<style scoped>\n",
       "    .dataframe tbody tr th:only-of-type {\n",
       "        vertical-align: middle;\n",
       "    }\n",
       "\n",
       "    .dataframe tbody tr th {\n",
       "        vertical-align: top;\n",
       "    }\n",
       "\n",
       "    .dataframe thead th {\n",
       "        text-align: right;\n",
       "    }\n",
       "</style>\n",
       "<table border=\"1\" class=\"dataframe\">\n",
       "  <thead>\n",
       "    <tr style=\"text-align: right;\">\n",
       "      <th></th>\n",
       "      <th>Total Schools</th>\n",
       "      <th>Total Students</th>\n",
       "      <th>Total Budget</th>\n",
       "      <th>Average Math Score</th>\n",
       "      <th>Average Reading Score</th>\n",
       "      <th>% Passing Math</th>\n",
       "      <th>% Passing Reading</th>\n",
       "      <th>% Overall Passing</th>\n",
       "    </tr>\n",
       "  </thead>\n",
       "  <tbody>\n",
       "    <tr>\n",
       "      <th>0</th>\n",
       "      <td>15</td>\n",
       "      <td>39170</td>\n",
       "      <td>$24,649,428.00</td>\n",
       "      <td>78.985371</td>\n",
       "      <td>81.87784</td>\n",
       "      <td>74.98%</td>\n",
       "      <td>85.81%</td>\n",
       "      <td>65.17%</td>\n",
       "    </tr>\n",
       "  </tbody>\n",
       "</table>\n",
       "</div>"
      ],
      "text/plain": [
       "   Total Schools  Total Students    Total Budget  Average Math Score  \\\n",
       "0             15           39170  $24,649,428.00           78.985371   \n",
       "\n",
       "   Average Reading Score % Passing Math % Passing Reading % Overall Passing  \n",
       "0               81.87784         74.98%            85.81%            65.17%  "
      ]
     },
     "metadata": {},
     "output_type": "display_data"
    }
   ],
   "source": [
    "### DISTRICT SUMMARY DATAFRAME\n",
    "\n",
    "district_df = pd.DataFrame(dist_data)\n",
    "display(district_df)"
   ]
  },
  {
   "cell_type": "code",
   "execution_count": null,
   "id": "057cfccf-a0b4-471c-8526-396379a8200a",
   "metadata": {},
   "outputs": [],
   "source": []
  }
 ],
 "metadata": {
  "kernelspec": {
   "display_name": "Python 3 (ipykernel)",
   "language": "python",
   "name": "python3"
  },
  "language_info": {
   "codemirror_mode": {
    "name": "ipython",
    "version": 3
   },
   "file_extension": ".py",
   "mimetype": "text/x-python",
   "name": "python",
   "nbconvert_exporter": "python",
   "pygments_lexer": "ipython3",
   "version": "3.7.11"
  }
 },
 "nbformat": 4,
 "nbformat_minor": 5
}
